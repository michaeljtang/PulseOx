{
 "cells": [
  {
   "cell_type": "markdown",
   "metadata": {},
   "source": [
    "## This notebook follows the same analysis as wrist_rmsAnalysis, but implements a sliding window as well as a couple other changes to clean up code and stuff"
   ]
  },
  {
   "cell_type": "code",
   "execution_count": 1,
   "metadata": {},
   "outputs": [],
   "source": [
    "import numpy as np\n",
    "import pandas as pd\n",
    "import matplotlib.pyplot as plt\n",
    "\n",
    "df = pd.read_csv('../data/trial0.csv', index_col='time')\n",
    "\n",
    "# omit first 50 due to errors in setting up apparatus in beginning\n",
    "df = df.iloc[50:]\n",
    "\n",
    "SR = 25"
   ]
  },
  {
   "cell_type": "code",
   "execution_count": 2,
   "metadata": {},
   "outputs": [
    {
     "data": {
      "text/plain": [
       "Text(0.5, 0, 'time (s)')"
      ]
     },
     "execution_count": 2,
     "metadata": {},
     "output_type": "execute_result"
    },
    {
     "data": {
      "image/png": "[encoded data removed]",
      "text/plain": [
       "<Figure size 432x288 with 1 Axes>"
      ]
     },
     "metadata": {
      "needs_background": "light"
     },
     "output_type": "display_data"
    }
   ],
   "source": [
    "plt.plot(df['Reflect: Red']);\n",
    "plt.title('Red PPG')\n",
    "plt.xlabel('time (s)')"
   ]
  },
  {
   "cell_type": "code",
   "execution_count": 3,
   "metadata": {},
   "outputs": [
    {
     "data": {
      "image/png": "[encoded data removed]",
      "text/plain": [
       "<Figure size 432x288 with 1 Axes>"
      ]
     },
     "metadata": {
      "needs_background": "light"
     },
     "output_type": "display_data"
    }
   ],
   "source": [
    "plt.plot(df['Reflect: IR']);\n",
    "plt.title('IR PPG')\n",
    "plt.xlabel('time (s)');"
   ]
  },
  {
   "cell_type": "markdown",
   "metadata": {},
   "source": [
    "## Helper functions for analysis -- can be factored out to new file later"
   ]
  },
  {
   "cell_type": "code",
   "execution_count": 4,
   "metadata": {},
   "outputs": [],
   "source": [
    "from pyts import decomposition\n",
    "import heartpy as hp\n",
    "from scipy import signal\n",
    "\n",
    "def extract_acdc(F, L, SR):\n",
    "    \"\"\"\n",
    "    F: time series numpy array of PPG signal\n",
    "    \n",
    "    Returns: \n",
    "    ac_signal\n",
    "    dc_signal\n",
    "    \"\"\"\n",
    "    ssa = decomposition.SingularSpectrumAnalysis(window_size = L)\n",
    "    F_ssa = ssa.fit_transform(F.reshape(1, -1))\n",
    "    dc = F_ssa[0]\n",
    "    ac = np.sum(F_ssa[1:], axis=0)\n",
    "    filtered_ac = hp.filter_signal(ac, \n",
    "                                  cutoff = [.7, 3], \n",
    "                                  filtertype = 'bandpass',\n",
    "                                  sample_rate = SR, \n",
    "                                  order = 4,\n",
    "                                  return_top = False)\n",
    "    return dc, filtered_ac\n",
    "\n",
    "def peak_detect_acdc(ac, dc, bpm, x_label):\n",
    "    \n",
    "    time = x_label[-1] - x_label[0]\n",
    "    samples = len(x_label)\n",
    "    \n",
    "    # doesn't give result I want when putting asa param for find_peaks -- not really sure why\n",
    "    # bpm here is taken directly from transmission pulseox, in practice we would use estimate from heartpy process? doesn't seem great for error\n",
    "    width = 60 / bpm\n",
    "    # so dist is used instead\n",
    "    dt = time / samples\n",
    "    dist = width / dt\n",
    "    # give room for error\n",
    "    dist -= .2 * dist\n",
    "\n",
    "    # find peaks and troughs\n",
    "    inv_ac = -ac\n",
    "    # find peaks without dc comp to make peak detection easier\n",
    "    trough_idx, _ = signal.find_peaks(inv_ac, distance=dist)\n",
    "    peak_idx, _ = signal.find_peaks(ac, distance=dist)\n",
    "\n",
    "    clean_signal = ac + dc\n",
    "\n",
    "    peakDc = []\n",
    "    peakAc = []\n",
    "\n",
    "    # go through for every peak-trough-peak group in our sequence\n",
    "    for i in range(len(trough_idx) - 1):\n",
    "        # pick two arbitrary troughs and the peak in between\n",
    "        tidx0 = trough_idx[i]\n",
    "        tidx1 = trough_idx[i + 1]\n",
    "            \n",
    "        j = i\n",
    "        while pidx < tidx0:\n",
    "            j += 1\n",
    "            pidx = peak_idx[j]\n",
    "\n",
    "        # find parameters for best fit line between two trough\n",
    "        m = (clean_signal[tidx1] - clean_signal[tidx0]) / (x_label[tidx1] - x_label[tidx0])\n",
    "        b = clean_signal[tidx0] - m * x_label[tidx0]\n",
    "\n",
    "        # find AC and DC components using the best fit line\n",
    "        peakVal = clean_signal[pidx]\n",
    "        peakDcTemp = m * x_label[pidx] + b\n",
    "        peakAcTemp = peakVal - peakDcTemp\n",
    "\n",
    "        peakDc.append(peakDcTemp)\n",
    "        peakAc.append(peakAcTemp)\n",
    "        \n",
    "    peakDc = sum(peakDc) / len(peakDc)\n",
    "    peakAc = sum(peakAc) / len(peakAc)\n",
    "\n",
    "    return peakDc, peakAc\n",
    "\n",
    "\n",
    "def linear_spo2(red_ac, red_dc, ir_ac, ir_dc):    \n",
    "    # calculate R\n",
    "    redRatio = red_ac / red_dc\n",
    "    irRatio = ir_ac / ir_dc\n",
    "    R = redRatio / irRatio\n",
    "\n",
    "    # linear fit\n",
    "    lin_spo2 = 104 - 17 * R\n",
    "    return lin_spo2\n",
    "\n",
    "def quadratic_spo2(red_ac, red_dc, ir_ac, ir_dc):\n",
    "    # calculate R\n",
    "    redRatio = red_ac / red_dc\n",
    "    irRatio = ir_ac / ir_dc\n",
    "    R = redRatio / irRatio\n",
    "\n",
    "    # using quadratic fit\n",
    "    a = 1.5958422\n",
    "    b = -34.6596622\n",
    "    c = 112.6898759\n",
    "    quad_spo2 = a * (R**2) + b * R + c\n",
    "    return quad_spo2"
   ]
  },
  {
   "cell_type": "code",
   "execution_count": 5,
   "metadata": {},
   "outputs": [],
   "source": [
    "real_spo2 = []\n",
    "lin_spo2 = []\n",
    "quad_spo2 = []\n",
    "\n",
    "# set window size, meansured in samples -- will be varied for testing\n",
    "window_size = 100\n",
    "# L is the window we use for the SSA decomposition\n",
    "L = window_size // 2\n",
    "\n",
    "time_axis = df.index[L : df.shape[0] - L]\n",
    "\n",
    "# iterate such that we can always have a 'window_size' window at every point\n",
    "for i in range(L, df.shape[0] - L):\n",
    "    # pull out window_size samples as a single trial, half from each side of i\n",
    "    df_trial = df.iloc[i - L : i + L]\n",
    "    # bpm in practice would be extracted using fft or smth similar\n",
    "    bpm = df_trial['bpm'].mean()\n",
    "    real_spo2.append(df_trial['spo2'].mean())\n",
    "    \n",
    "    # red analysis\n",
    "    red_F = df_trial['Reflect: Red'].to_numpy()\n",
    "    red_dc, red_ac = extract_acdc(red_F, L, SR)\n",
    "    red_peak_dc, red_peak_ac = peak_detect_acdc(red_ac, red_dc, bpm, df_trial.index)\n",
    "    \n",
    "    # ir analysis\n",
    "    ir_F = df_trial['Reflect: IR'].to_numpy()\n",
    "    ir_dc, ir_ac = extract_acdc(ir_F, L, SR)\n",
    "    ir_peak_dc, ir_peak_ac = peak_detect_acdc(ir_ac, ir_dc, bpm, df_trial.index)\n",
    "\n",
    "    lin_spo2.append(linear_spo2(red_peak_ac, red_peak_dc, ir_peak_ac, ir_peak_dc))\n",
    "    quad_spo2.append(quadratic_spo2(red_peak_ac, red_peak_dc, ir_peak_ac, ir_peak_dc))"
   ]
  },
  {
   "cell_type": "code",
   "execution_count": 6,
   "metadata": {},
   "outputs": [
    {
     "data": {
      "text/plain": [
       "Text(0.5, 1.0, 'SpO2')"
      ]
     },
     "execution_count": 6,
     "metadata": {},
     "output_type": "execute_result"
    },
    {
     "data": {
      "image/png": "[encoded data removed]",
      "text/plain": [
       "<Figure size 432x288 with 1 Axes>"
      ]
     },
     "metadata": {
      "needs_background": "light"
     },
     "output_type": "display_data"
    }
   ],
   "source": [
    "# organize results into pandas dataframe\n",
    "columns = {'real_spo2' : real_spo2, 'lin_spo2' : lin_spo2, 'quad_spo2' : quad_spo2, 'time' : time_axis}\n",
    "results = pd.DataFrame(columns)\n",
    "results.set_index('time', inplace=True)\n",
    "\n",
    "# plot\n",
    "plt.scatter(results.index, results['real_spo2'])\n",
    "plt.scatter(results.index, results['lin_spo2'], s=1)\n",
    "#plt.scatter(results.index, results['quad_spo2'])\n",
    "plt.legend(['Real SpO2', 'Linear SpO2', 'Quad SpO2'])\n",
    "plt.xlabel('Time (s)')\n",
    "plt.ylabel('SpO2')\n",
    "plt.title('SpO2')"
   ]
  }
 ],
 "metadata": {
  "kernelspec": {
   "display_name": "reu2020",
   "language": "python",
   "name": "reu2020"
  },
  "language_info": {
   "codemirror_mode": {
    "name": "ipython",
    "version": 3
   },
   "file_extension": ".py",
   "mimetype": "text/x-python",
   "name": "python",
   "nbconvert_exporter": "python",
   "pygments_lexer": "ipython3",
   "version": "3.7.7"
  }
 },
 "nbformat": 4,
 "nbformat_minor": 4
}
